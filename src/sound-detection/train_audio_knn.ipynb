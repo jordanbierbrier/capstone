{
 "cells": [
  {
   "cell_type": "code",
   "execution_count": 51,
   "metadata": {},
   "outputs": [],
   "source": [
    "import warnings\n",
    "warnings.simplefilter(action='ignore', category=FutureWarning)\n",
    "import numpy as np\n",
    "import matplotlib.pyplot as plt\n",
    "import os\n",
    "import IPython.display as ipd\n",
    "import librosa\n",
    "from sklearn.neighbors import KNeighborsClassifier\n",
    "from sklearn.model_selection import train_test_split\n",
    "from sklearn.metrics import accuracy_score\n",
    "from joblib import dump, load\n",
    "from pathlib import Path\n",
    "import pandas as pd\n",
    "\n",
    "# clapping - 22\n",
    "# door knock - 30\n",
    "# car horn - 43\n",
    "# glass breaking -  39\n",
    "# clock alarm - 37"
   ]
  },
  {
   "cell_type": "code",
   "execution_count": 46,
   "metadata": {},
   "outputs": [],
   "source": [
    "project_path = Path('audio/five_class')\n",
    "\n",
    "def extract_mfccs(file:Path):\n",
    "    audio, sample_rate = librosa.load(file) \n",
    "\n",
    "    #extract mfccs\n",
    "    mfccs_features = librosa.feature.mfcc(y=audio, n_mfcc=13, sr=sample_rate)\n",
    "    \n",
    "    #get average along the time axis\n",
    "    mfccs_scaled_features = np.mean(mfccs_features,axis=1)\n",
    "    # mfccs_scaled_features = mfccs_features.flatten('F')\n",
    "    return mfccs_scaled_features\n"
   ]
  },
  {
   "cell_type": "code",
   "execution_count": 47,
   "metadata": {},
   "outputs": [],
   "source": [
    "combined_mfccs = []\n",
    "labels = []\n",
    "temp_label = 0\n",
    "\n",
    "for filename in os.listdir(project_path):\n",
    "\n",
    "    #extract label from filename. Example filename is '1-104089-A-22.wav' where 22 is label\n",
    "    label_type = int(filename.split('-')[3][:2])\n",
    "\n",
    "    #clapping\n",
    "    if (label_type == 22):\n",
    "        temp_label = 0\n",
    "    #door knock\n",
    "    elif (label_type == 30):\n",
    "        temp_label = 1\n",
    "    #car horn\n",
    "    elif (label_type == 43):\n",
    "        temp_label = 2\n",
    "    #glass breaking \n",
    "    elif (label_type == 39):\n",
    "        temp_label = 3\n",
    "    #clock alarm\n",
    "    elif (label_type == 37):\n",
    "        temp_label = 4\n",
    "    else:\n",
    "        raise Exception(\"Unrecognized label\")\n",
    "    \n",
    "    coeffs = extract_mfccs(project_path / filename )\n",
    "    combined_mfccs.append(coeffs)\n",
    "    labels.append(temp_label)"
   ]
  },
  {
   "cell_type": "code",
   "execution_count": 48,
   "metadata": {},
   "outputs": [],
   "source": [
    "combined_mfccs = np.array(combined_mfccs)\n",
    "labels = np.array(labels)"
   ]
  },
  {
   "cell_type": "code",
   "execution_count": 49,
   "metadata": {},
   "outputs": [
    {
     "name": "stdout",
     "output_type": "stream",
     "text": [
      "(160, 13)\n",
      "(160,)\n"
     ]
    }
   ],
   "source": [
    "X_train, X_val, Y_train, Y_val = train_test_split(combined_mfccs,labels,train_size=0.8,test_size=0.2, random_state = 1)#always get the same output\n",
    "\n",
    "print(X_train.shape)\n",
    "print(Y_train.shape)"
   ]
  },
  {
   "cell_type": "code",
   "execution_count": 52,
   "metadata": {},
   "outputs": [
    {
     "data": {
      "text/plain": [
       "0.7"
      ]
     },
     "execution_count": 52,
     "metadata": {},
     "output_type": "execute_result"
    }
   ],
   "source": [
    "neigh = KNeighborsClassifier(n_neighbors=1)\n",
    "neigh.fit(X_train, Y_train)\n",
    "y_pred_val = neigh.predict(X_val)\n",
    "accuracy_score(Y_val,y_pred_val)"
   ]
  }
 ],
 "metadata": {
  "kernelspec": {
   "display_name": "Python 3.9.13 ('sound-detect')",
   "language": "python",
   "name": "python3"
  },
  "language_info": {
   "codemirror_mode": {
    "name": "ipython",
    "version": 3
   },
   "file_extension": ".py",
   "mimetype": "text/x-python",
   "name": "python",
   "nbconvert_exporter": "python",
   "pygments_lexer": "ipython3",
   "version": "3.9.13"
  },
  "orig_nbformat": 4,
  "vscode": {
   "interpreter": {
    "hash": "4f9168b2eeae765f1716f3ae809ce7519887fc5823fba07c6d18fbe165ba518f"
   }
  }
 },
 "nbformat": 4,
 "nbformat_minor": 2
}
